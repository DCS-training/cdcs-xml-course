{
 "cells": [
  {
   "cell_type": "markdown",
   "id": "1f246001-26a8-4275-b322-7d31b8ac131a",
   "metadata": {},
   "source": [
    "# Preliminaries\n",
    "- install the saxon parser and API library using pip."
   ]
  },
  {
   "cell_type": "code",
   "execution_count": null,
   "id": "74d8935c-adeb-46bf-8dba-3233a9fef8de",
   "metadata": {},
   "outputs": [],
   "source": [
    "!pip install saxonche"
   ]
  },
  {
   "cell_type": "markdown",
   "id": "5d103052-1ace-44dc-a12a-2216e7577001",
   "metadata": {},
   "source": [
    "- Test the Python library and API, the result should be the API version"
   ]
  },
  {
   "cell_type": "code",
   "execution_count": null,
   "id": "aa29d36a-5452-4b79-ade2-4917bdd2e458",
   "metadata": {},
   "outputs": [],
   "source": [
    "from saxonche import PySaxonProcessor\n",
    "\n",
    "with PySaxonProcessor(license=False) as proc:\n",
    "\tprint(proc.version)"
   ]
  },
  {
   "cell_type": "markdown",
   "id": "7ee2fde1-d047-407c-8995-f7e218cfe47f",
   "metadata": {},
   "source": [
    "- Transform the test.xml file using the test_one.xsl transformation stylesheet."
   ]
  },
  {
   "cell_type": "code",
   "execution_count": 4,
   "id": "478ca26a-a50b-4b90-a458-43fd091af838",
   "metadata": {},
   "outputs": [
    {
     "ename": "FileNotFoundError",
     "evalue": "[Errno 2] No such file or directory: 'cdcs-xml-course/test.xml'",
     "output_type": "error",
     "traceback": [
      "\u001b[1;31m---------------------------------------------------------------------------\u001b[0m",
      "\u001b[1;31mFileNotFoundError\u001b[0m                         Traceback (most recent call last)",
      "Cell \u001b[1;32mIn[4], line 6\u001b[0m\n\u001b[0;32m      3\u001b[0m \u001b[38;5;28;01mwith\u001b[39;00m PySaxonProcessor(license\u001b[38;5;241m=\u001b[39m\u001b[38;5;28;01mFalse\u001b[39;00m) \u001b[38;5;28;01mas\u001b[39;00m proc:\n\u001b[0;32m      5\u001b[0m  xsltproc \u001b[38;5;241m=\u001b[39m proc\u001b[38;5;241m.\u001b[39mnew_xslt30_processor()\n\u001b[1;32m----> 6\u001b[0m  \u001b[38;5;28;01mwith\u001b[39;00m \u001b[38;5;28;43mopen\u001b[39;49m\u001b[43m(\u001b[49m\u001b[38;5;124;43m'\u001b[39;49m\u001b[38;5;124;43mcdcs-xml-course/test.xml\u001b[39;49m\u001b[38;5;124;43m'\u001b[39;49m\u001b[43m,\u001b[49m\u001b[43m \u001b[49m\u001b[43mencoding\u001b[49m\u001b[38;5;241;43m=\u001b[39;49m\u001b[38;5;124;43m\"\u001b[39;49m\u001b[38;5;124;43mutf-8\u001b[39;49m\u001b[38;5;124;43m\"\u001b[39;49m\u001b[43m)\u001b[49m \u001b[38;5;28;01mas\u001b[39;00m xmlfile:\n\u001b[0;32m      7\u001b[0m      document \u001b[38;5;241m=\u001b[39m proc\u001b[38;5;241m.\u001b[39mparse_xml(xml_text\u001b[38;5;241m=\u001b[39mxmlfile\u001b[38;5;241m.\u001b[39mread())    \n\u001b[0;32m      8\u001b[0m      executable \u001b[38;5;241m=\u001b[39m xsltproc\u001b[38;5;241m.\u001b[39mcompile_stylesheet(stylesheet_file\u001b[38;5;241m=\u001b[39m\u001b[38;5;124m\"\u001b[39m\u001b[38;5;124mcdcs-xml-course/test_one.xsl\u001b[39m\u001b[38;5;124m\"\u001b[39m)\n",
      "File \u001b[1;32mC:\\Python312\\Lib\\site-packages\\IPython\\core\\interactiveshell.py:324\u001b[0m, in \u001b[0;36m_modified_open\u001b[1;34m(file, *args, **kwargs)\u001b[0m\n\u001b[0;32m    317\u001b[0m \u001b[38;5;28;01mif\u001b[39;00m file \u001b[38;5;129;01min\u001b[39;00m {\u001b[38;5;241m0\u001b[39m, \u001b[38;5;241m1\u001b[39m, \u001b[38;5;241m2\u001b[39m}:\n\u001b[0;32m    318\u001b[0m     \u001b[38;5;28;01mraise\u001b[39;00m \u001b[38;5;167;01mValueError\u001b[39;00m(\n\u001b[0;32m    319\u001b[0m         \u001b[38;5;124mf\u001b[39m\u001b[38;5;124m\"\u001b[39m\u001b[38;5;124mIPython won\u001b[39m\u001b[38;5;124m'\u001b[39m\u001b[38;5;124mt let you open fd=\u001b[39m\u001b[38;5;132;01m{\u001b[39;00mfile\u001b[38;5;132;01m}\u001b[39;00m\u001b[38;5;124m by default \u001b[39m\u001b[38;5;124m\"\u001b[39m\n\u001b[0;32m    320\u001b[0m         \u001b[38;5;124m\"\u001b[39m\u001b[38;5;124mas it is likely to crash IPython. If you know what you are doing, \u001b[39m\u001b[38;5;124m\"\u001b[39m\n\u001b[0;32m    321\u001b[0m         \u001b[38;5;124m\"\u001b[39m\u001b[38;5;124myou can use builtins\u001b[39m\u001b[38;5;124m'\u001b[39m\u001b[38;5;124m open.\u001b[39m\u001b[38;5;124m\"\u001b[39m\n\u001b[0;32m    322\u001b[0m     )\n\u001b[1;32m--> 324\u001b[0m \u001b[38;5;28;01mreturn\u001b[39;00m \u001b[43mio_open\u001b[49m\u001b[43m(\u001b[49m\u001b[43mfile\u001b[49m\u001b[43m,\u001b[49m\u001b[43m \u001b[49m\u001b[38;5;241;43m*\u001b[39;49m\u001b[43margs\u001b[49m\u001b[43m,\u001b[49m\u001b[43m \u001b[49m\u001b[38;5;241;43m*\u001b[39;49m\u001b[38;5;241;43m*\u001b[39;49m\u001b[43mkwargs\u001b[49m\u001b[43m)\u001b[49m\n",
      "\u001b[1;31mFileNotFoundError\u001b[0m: [Errno 2] No such file or directory: 'cdcs-xml-course/test.xml'"
     ]
    }
   ],
   "source": [
    "from saxonche import *\n",
    "\n",
    "with PySaxonProcessor(license=False) as proc:\n",
    " \n",
    " xsltproc = proc.new_xslt30_processor()\n",
    " with open('test.xml', encoding=\"utf-8\") as xmlfile:\n",
    "     document = proc.parse_xml(xml_text=xmlfile.read())    \n",
    "     executable = xsltproc.compile_stylesheet(stylesheet_file=\"test_one.xsl\")\n",
    "     output = executable.transform_to_string(xdm_node=document)\n",
    "     print(output)\n",
    "     xmlfile.close()"
   ]
  },
  {
   "cell_type": "markdown",
   "id": "e97ed4c3-9806-47f2-8292-0f0088b93494",
   "metadata": {},
   "source": [
    "# XML Structures\n",
    "\n",
    "## The Parser\n",
    "\n",
    "The parser is a key element in utilising XML documents. Parsers are quite common in programming and have uses in a variety of situations.\n",
    "\n",
    "A parser, in essence, iterates through a file of symbols or characters. Typically with the intention of segmenting them into forms of data.\n",
    "\n",
    "In this case the __[Saxon](https://www.saxonica.com/welcome/welcome.xml)__ parser is being used. Saxon is a potent commercial parser for processing XML documents. Although Python has it's own internal parsers for processing XML, for example Lib/xml/etree or lxml. These libraries don't typically provide all the native XML processing features or if they do, they're not up-to-date.\n",
    "\n",
    "The Parser is a **key** component in utilising an XML document. As you will see when using XSLT, understanding parser mechanics is crucial.\n",
    "\n",
    "To execute parsing of an XML the minimum requirement is that an XML document is \n",
    "*well-formed*. Optionally it must also be *valid* (something that will be examined later). There is a tertiary form of validation addressed by an XML standard known as __[Schematron](https://schematron.com/)__. That won't be addressed in this course, but it's worth being aware of it.\n",
    "\n",
    "## The Prologue\n",
    "\n",
    "The prologue is an essential component of an XML document.\n",
    "\n",
    "It provides some key information for a processor using the XML declaration. Namely that this file is in fact an XML file. What the character encoding of the document is and what version of XML is in use.\n",
    "\n",
    "`<?xml version=\"1.0\" encoding=\"UTF-8\"?>\n",
    "...`\n",
    "\n",
    "Ostensibly there are two versions of XML: version 1.0 and version 1.1. In practise you will almost never see version 1.1 in the wild.\n"
   ]
  },
  {
   "cell_type": "markdown",
   "id": "d5276153-c59d-4f4d-bf20-60886b5b42c4",
   "metadata": {
    "scrolled": true
   },
   "source": [
    "### Encoding\n",
    "\n",
    "Essentially each character in a document has an underlying numeric code.\n",
    "\n",
    "| character | unicode value |\n",
    "-----------------------------\n",
    "| A | U+0041 |\n",
    "| a | U+0061 |\n",
    "| B | U+0042 |\n",
    "| b | U+0062 |\n",
    "\n",
    "...\n",
    "\n",
    "I won't be going into detail into encoding. But it is an important topic. The encoding variable sets the expected encoding of characters within the document. The value 'utf-8' is an acronymn for 'Unicode Transformation Format 8 bit'. And is suitable for most extant latin derived languages in the Western hemisphere.\n",
    "\n",
    "The __[Unicode standard](https://home.unicode.org/)__ is currently the main standard in character encoding. But it's worth bearing in mind that Unicode only became a standard in 1991. Full acceptance and support of Unicode by software providers such as Microsoft was patchy until around 2000.\n",
    "\n",
    "If you're dealing with non-extant languages, non-pervasive languages and dialects and other specialisms. Encoding is something to think carefully about. Another area to consider is if you're using digital sources that predate Unicode."
   ]
  },
  {
   "cell_type": "code",
   "execution_count": 3,
   "id": "12b755c1-0b0d-432f-ab76-624736b2a00e",
   "metadata": {},
   "outputs": [
    {
     "name": "stdout",
     "output_type": "stream",
     "text": [
      "<!DOCTYPE HTML>\n",
      "<html>\n",
      "   <head>\n",
      "      <meta http-equiv=\"Content-Type\" content=\"text/html; charset=utf-8\">\n",
      "   </head>\n",
      "   <body>\n",
      "      \n",
      "      <hr>\n",
      "      <h1>Postcard</h1>\n",
      "      \n",
      "      \n",
      "      <div class=\"content\">\n",
      "         <h2>Contents</h2>I love marmalade!</div>\n",
      "      \n",
      "      \n",
      "      <div class=\"address\">\n",
      "         <h2>Name and Address</h2>\n",
      "         <ul>\n",
      "            \n",
      "            <li><b>name</b>&nbsp;80,97,100,100,105,110,103,116,111,110,32,66,101,97,114</li>\n",
      "            \n",
      "            <li><b>co</b>&nbsp;77,114,115,32,66,114,111,119,110</li>\n",
      "            \n",
      "            <li><b>street</b>&nbsp;51,50,32,87,105,110,100,115,111,114,32,71,97,114,100,101,110,115</li>\n",
      "            \n",
      "            <li><b>town</b>&nbsp;78,111,116,116,105,110,103,32,72,105,108,108</li>\n",
      "            \n",
      "            <li><b>county</b>&nbsp;76,111,110,100,111,110</li>\n",
      "            \n",
      "            <li><b>country</b>&nbsp;85,110,105,116,101,100,32,75,105,110,103,100,111,109</li>\n",
      "            \n",
      "            <li><b>postcode</b>&nbsp;87,57,32,51,82,71</li>\n",
      "            </ul>\n",
      "      </div>\n",
      "      \n",
      "      <hr>\n",
      "      </body>\n",
      "</html>\n"
     ]
    }
   ],
   "source": [
    "# character to integer transformation\n",
    "from saxonche import *\n",
    "\n",
    "with PySaxonProcessor(license=False) as proc:\n",
    " \n",
    " xsltproc = proc.new_xslt30_processor()\n",
    " with open('test.xml', encoding=\"utf-8\") as xmlfile:\n",
    "     document = proc.parse_xml(xml_text=xmlfile.read())    \n",
    "     executable = xsltproc.compile_stylesheet(stylesheet_file=\"tounicode.xsl\")\n",
    "     output = executable.transform_to_string(xdm_node=document)\n",
    "     print(output)\n",
    "     xmlfile.close()"
   ]
  },
  {
   "cell_type": "markdown",
   "id": "e39235ba-151e-479f-bc33-e29663b56429",
   "metadata": {},
   "source": [
    "## Other Prologue Elements\n",
    "\n",
    "This is typical known as *declarative markup*. It is used for a variety of purposes but the usual purpose is to provide a *schema* or *data definition* to the XML document. \n",
    "\n",
    "These elements, whilst optional, are intended to provide a controlled vocabulary for constructing and validating XML documents."
   ]
  },
  {
   "cell_type": "code",
   "execution_count": null,
   "id": "8a4e6b87-c644-473b-a318-b3bf8ca79cb0",
   "metadata": {},
   "outputs": [],
   "source": [
    "# Sample declarative markup using xHTML. An XML-derived variant of HTML."
   ]
  },
  {
   "cell_type": "markdown",
   "id": "9c02f554-2590-41f9-9f5a-5f0c92c11239",
   "metadata": {},
   "source": [
    "## XML Document Body\n",
    "\n",
    "An XML document is made up of distinct data types."
   ]
  }
 ],
 "metadata": {
  "kernelspec": {
   "display_name": "Python 3 (ipykernel)",
   "language": "python",
   "name": "python3"
  },
  "language_info": {
   "codemirror_mode": {
    "name": "ipython",
    "version": 3
   },
   "file_extension": ".py",
   "mimetype": "text/x-python",
   "name": "python",
   "nbconvert_exporter": "python",
   "pygments_lexer": "ipython3",
   "version": "3.12.1"
  }
 },
 "nbformat": 4,
 "nbformat_minor": 5
}
