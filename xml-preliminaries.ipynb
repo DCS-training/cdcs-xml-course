{
 "cells": [
  {
   "cell_type": "markdown",
   "id": "1672bfed-d0cd-4351-89c0-04f1cde426ed",
   "metadata": {},
   "source": [
    "# Preliminaries\n",
    "- install the saxon parser and API library using pip."
   ]
  },
  {
   "cell_type": "code",
   "execution_count": null,
   "id": "0da2a627-0ae8-4d5d-8119-6b9fef1aa2ec",
   "metadata": {},
   "outputs": [],
   "source": [
    "!pip install saxonche"
   ]
  },
  {
   "cell_type": "markdown",
   "id": "bd8f6a6e-20ac-4d69-b773-6f44e1db840e",
   "metadata": {},
   "source": [
    "- Test the Python library and API, the result should be the API version"
   ]
  },
  {
   "cell_type": "code",
   "execution_count": null,
   "id": "ae28f9ba-8be7-4c4d-a0f1-2e8eb69f7137",
   "metadata": {},
   "outputs": [],
   "source": [
    "from saxonche import PySaxonProcessor\n",
    "\n",
    "with PySaxonProcessor(license=False) as proc:\n",
    "\tprint(proc.version)"
   ]
  },
  {
   "cell_type": "markdown",
   "id": "7b01c126-821c-48b1-831e-c24b42b89bb0",
   "metadata": {},
   "source": [
    "- Transform the test.xml file using the test_one.xsl transformation stylesheet."
   ]
  },
  {
   "cell_type": "code",
   "execution_count": null,
   "id": "6e016da4-37d0-4a24-87e9-0c11aa6c88b1",
   "metadata": {},
   "outputs": [],
   "source": [
    "from saxonche import *\n",
    "\n",
    "with PySaxonProcessor(license=False) as proc:\n",
    " \n",
    " xsltproc = proc.new_xslt30_processor()\n",
    " with open('cdcs-xml-course/test.xml', encoding=\"utf-8\") as xmlfile:\n",
    "     document = proc.parse_xml(xml_text=xmlfile.read())    \n",
    "     executable = xsltproc.compile_stylesheet(stylesheet_file=\"cdcs-xml-course/test_one.xsl\")\n",
    "     output = executable.transform_to_string(xdm_node=document)\n",
    "     print(output)\n",
    "     xmlfile.close()"
   ]
  }
 ],
 "metadata": {
  "kernelspec": {
   "display_name": "Python 3 (ipykernel)",
   "language": "python",
   "name": "python3"
  },
  "language_info": {
   "codemirror_mode": {
    "name": "ipython",
    "version": 3
   },
   "file_extension": ".py",
   "mimetype": "text/x-python",
   "name": "python",
   "nbconvert_exporter": "python",
   "pygments_lexer": "ipython3",
   "version": "3.12.1"
  }
 },
 "nbformat": 4,
 "nbformat_minor": 5
}
